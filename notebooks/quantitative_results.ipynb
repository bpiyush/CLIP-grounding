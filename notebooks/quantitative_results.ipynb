{
 "cells": [
  {
   "cell_type": "code",
   "execution_count": null,
   "id": "a5f52bfd-c7ac-4460-a94f-0d1b9a1ef95d",
   "metadata": {},
   "outputs": [],
   "source": []
  },
  {
   "cell_type": "code",
   "execution_count": 1,
   "id": "9dd7d7a7-3a6b-468e-bf8e-a147d7615370",
   "metadata": {},
   "outputs": [],
   "source": [
    "%load_ext autoreload\n",
    "%autoreload 2"
   ]
  },
  {
   "cell_type": "code",
   "execution_count": 41,
   "id": "76e24fd1-33f3-461f-b12e-35f16a0ed928",
   "metadata": {},
   "outputs": [],
   "source": [
    "from os.path import join\n",
    "import torch\n",
    "import matplotlib.pyplot as plt\n",
    "import numpy as np\n",
    "from matplotlib.patches import Patch\n",
    "\n",
    "from clip_grounding.utils.paths import REPO_PATH\n",
    "from clip_grounding.utils.io import load_json\n",
    "from clip_grounding.utils.visualize import set_latex_fonts"
   ]
  },
  {
   "cell_type": "code",
   "execution_count": 15,
   "id": "57e9245e-7640-4064-b9b2-8276648ca670",
   "metadata": {},
   "outputs": [
    {
     "data": {
      "image/png": "[encoded data removed]",
      "text/plain": [
       "<Figure size 432x288 with 1 Axes>"
      ]
     },
     "metadata": {
      "needs_background": "light"
     },
     "output_type": "display_data"
    }
   ],
   "source": [
    "set_latex_fonts(show_sample=True)"
   ]
  },
  {
   "cell_type": "code",
   "execution_count": 3,
   "id": "20a1998e-2d57-4f07-9739-b82fd82150c1",
   "metadata": {},
   "outputs": [],
   "source": [
    "output_dir = join(REPO_PATH, \"outputs\")"
   ]
  },
  {
   "cell_type": "code",
   "execution_count": 27,
   "id": "ded80b2e-445f-4005-aa2b-68efe386e7b1",
   "metadata": {},
   "outputs": [],
   "source": [
    "methods = [\"random\", \"clip-unimodal\", \"clip\"]\n",
    "\n",
    "method2name = {\n",
    "    \"random\": \"Random\",\n",
    "    \"clip-unimodal\": \"CLIP-Unimodal\",\n",
    "    \"clip\": \"CLIP\",\n",
    "}\n"
   ]
  },
  {
   "cell_type": "code",
   "execution_count": 28,
   "id": "736335cf-85d6-4841-9abb-41e811b23dbe",
   "metadata": {},
   "outputs": [],
   "source": [
    "i2t_results = {m: torch.load(join(output_dir, f\"{m}_on_PNG_image2text_metrics.pt\")) for m in methods}\n",
    "t2i_results = {m: torch.load(join(output_dir, f\"{m}_on_PNG_text2image_metrics.pt\")) for m in methods}"
   ]
  },
  {
   "cell_type": "code",
   "execution_count": 29,
   "id": "057f1e5f-8a45-4f71-8a66-0fe207580b7d",
   "metadata": {},
   "outputs": [
    {
     "data": {
      "text/plain": [
       "dict_keys(['random', 'clip-unimodal', 'clip'])"
      ]
     },
     "execution_count": 29,
     "metadata": {},
     "output_type": "execute_result"
    }
   ],
   "source": [
    "i2t_results.keys()"
   ]
  },
  {
   "cell_type": "code",
   "execution_count": 30,
   "id": "b5018fb0-b467-4e83-a2fc-ae8dd3b476bb",
   "metadata": {},
   "outputs": [
    {
     "data": {
      "text/plain": [
       "0.25571540661114345"
      ]
     },
     "execution_count": 30,
     "metadata": {},
     "output_type": "execute_result"
    }
   ],
   "source": [
    "i2t_results[\"random\"][\"average_metrics\"][\"iou\"]"
   ]
  },
  {
   "cell_type": "markdown",
   "id": "dac736a2-e231-4d77-9313-1de2c1dc02d8",
   "metadata": {},
   "source": [
    "## Plot"
   ]
  },
  {
   "cell_type": "code",
   "execution_count": 64,
   "id": "1df0e2fc-2098-4aeb-90a2-e114430a8618",
   "metadata": {},
   "outputs": [
    {
     "data": {
      "image/png": "[encoded data removed]",
      "text/plain": [
       "<Figure size 864x360 with 2 Axes>"
      ]
     },
     "metadata": {
      "needs_background": "light"
     },
     "output_type": "display_data"
    }
   ],
   "source": [
    "fig, axes = plt.subplots(1, 2, figsize=(12, 5))\n",
    "\n",
    "titlesize = 20\n",
    "legendsize = 18\n",
    "labelsize = 16\n",
    "tickssize = 14\n",
    "colors = [\"lightgray\", \"lightcoral\", \"firebrick\"]\n",
    "\n",
    "ax = axes[0]\n",
    "ax.grid(alpha=0.3)\n",
    "ax.set_title(\"Text-to-Image\", fontsize=titlesize)\n",
    "ax.set_ylabel(\"IoU\", fontsize=labelsize)\n",
    "\n",
    "legend_values = [method2name[m] for m in methods]\n",
    "y_values = [i2t_results[m][\"average_metrics\"][\"iou\"] for m in methods]\n",
    "ax.bar(np.arange(len(legend_values)), y_values, width=0.5, color=colors)\n",
    "ax.set_xticks(np.arange(len(legend_values)), legend_values, fontsize=tickssize)\n",
    "ax.tick_params(axis='y', labelsize=tickssize)\n",
    "\n",
    "\n",
    "ax = axes[1]\n",
    "ax.grid(alpha=0.3)\n",
    "ax.set_title(\"Image-to-Text\", fontsize=titlesize)\n",
    "ax.set_ylabel(\"IoT\", fontsize=labelsize)\n",
    "\n",
    "legend_values = [method2name[m] for m in methods]\n",
    "y_values = [i2t_results[m][\"average_metrics\"][\"iou\"] for m in methods]\n",
    "ax.bar(np.arange(len(legend_values)), y_values, width=0.5, color=colors)\n",
    "ax.set_xticks(np.arange(len(legend_values)), legend_values, fontsize=tickssize)\n",
    "ax.tick_params(axis='y', labelsize=tickssize)\n",
    "\n",
    "legend_elements = [Patch(facecolor=c) for c in colors]\n",
    "# ax.legend(handles=legend_elements, loc='center')\n",
    "fig.legend(legend_elements, legend_values, bbox_to_anchor=(1.14, 0.7), fontsize=legendsize)\n",
    "\n",
    "plt.savefig(\"../outputs/results-v1.pdf\", bbox_inches=\"tight\")\n",
    "plt.show()"
   ]
  },
  {
   "cell_type": "code",
   "execution_count": null,
   "id": "2ee06c8b-829f-4418-93af-73c4c9001b07",
   "metadata": {},
   "outputs": [],
   "source": []
  }
 ],
 "metadata": {
  "kernelspec": {
   "display_name": "Python 3 (ipykernel)",
   "language": "python",
   "name": "python3"
  },
  "language_info": {
   "codemirror_mode": {
    "name": "ipython",
    "version": 3
   },
   "file_extension": ".py",
   "mimetype": "text/x-python",
   "name": "python",
   "nbconvert_exporter": "python",
   "pygments_lexer": "ipython3",
   "version": "3.9.13"
  }
 },
 "nbformat": 4,
 "nbformat_minor": 5
}
